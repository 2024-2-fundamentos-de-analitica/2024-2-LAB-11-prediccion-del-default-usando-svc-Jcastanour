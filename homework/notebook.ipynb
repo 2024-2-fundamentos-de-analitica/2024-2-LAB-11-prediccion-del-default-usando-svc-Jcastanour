{
 "cells": [
  {
   "cell_type": "code",
   "execution_count": 1,
   "metadata": {},
   "outputs": [],
   "source": [
    "from sklearn.feature_selection import SelectKBest, f_classif\n",
    "from sklearn.svm import SVC\n",
    "from sklearn.pipeline import Pipeline\n",
    "from sklearn.preprocessing import OneHotEncoder, StandardScaler\n",
    "from sklearn.decomposition import PCA\n",
    "from sklearn.model_selection import GridSearchCV, StratifiedKFold\n",
    "from sklearn.metrics import balanced_accuracy_score, precision_score, recall_score, f1_score, confusion_matrix, make_scorer\n",
    "from sklearn.compose import ColumnTransformer\n",
    "from sklearn.compose import ColumnTransformer\n",
    "from sklearn.feature_selection import SelectKBest\n",
    "from sklearn.pipeline import Pipeline\n",
    "from sklearn.preprocessing import OneHotEncoder\n",
    "\n",
    "import os\n",
    "import json\n",
    "import pickle\n",
    "import zipfile\n",
    "import glob\n",
    "import pandas as pd\n",
    "import gzip"
   ]
  },
  {
   "cell_type": "code",
   "execution_count": 15,
   "metadata": {},
   "outputs": [],
   "source": [
    "def load_data():\n",
    "\n",
    "    dataframe_test = pd.read_csv(\n",
    "        \"../files/input/test_data.csv.zip\",\n",
    "        index_col=False,\n",
    "        compression=\"zip\",\n",
    "    )\n",
    "\n",
    "    dataframe_train = pd.read_csv(\n",
    "        \"../files/input/train_data.csv.zip\",\n",
    "        index_col = False,\n",
    "        compression =\"zip\",\n",
    "    )\n",
    "\n",
    "    return dataframe_train, dataframe_test"
   ]
  },
  {
   "cell_type": "code",
   "execution_count": 16,
   "metadata": {},
   "outputs": [],
   "source": [
    "#Paso 1 y 2\n",
    "\n",
    "def clean_data(df):\n",
    "    df_copy = df.copy()\n",
    "    df_copy = df_copy.rename(columns={'default payment next month' : \"default\"})\n",
    "    df_copy = df_copy.drop(columns=[\"ID\"])\n",
    "    df_copy = df_copy.loc[df[\"MARRIAGE\"] != 0]\n",
    "    df_copy = df_copy.loc[df[\"EDUCATION\"] != 0]\n",
    "    df_copy[\"EDUCATION\"] = df_copy[\"EDUCATION\"].apply(lambda x: 4 if x >= 4 else x)\n",
    "    df_copy = df_copy.dropna()\n",
    "    return df_copy\n",
    "\n",
    "\n",
    "def split_data(df):\n",
    "    #X , Y\n",
    "    return df.drop(columns=[\"default\"]), df[\"default\"]\n",
    "\n"
   ]
  },
  {
   "cell_type": "code",
   "execution_count": 17,
   "metadata": {},
   "outputs": [],
   "source": [
    "def make_pipeline(x_train):\n",
    "    categorical_columns = [\"SEX\",\"EDUCATION\",\"MARRIAGE\"]\n",
    "    numerical_columns = list(set(x_train.columns).difference(categorical_columns))\n",
    "    preprocessor = ColumnTransformer(\n",
    "        transformers=[\n",
    "            ('onehot', OneHotEncoder(handle_unknown='ignore'), categorical_columns), \n",
    "            (\"scaler\", StandardScaler(with_mean=True, with_std=True), numerical_columns),\n",
    "        ],\n",
    "        remainder='passthrough'  \n",
    "    )\n",
    "    \n",
    "    # Construcción del pipeline\n",
    "    pipeline = Pipeline([\n",
    "        ('preprocessor', preprocessor),       \n",
    "        ('pca', PCA()),                \n",
    "        ('feature_selection', SelectKBest(score_func=f_classif)),       \n",
    "        ('classifier', SVC(kernel=\"rbf\", random_state=12345, max_iter=-1))                       \n",
    "    ])\n",
    "\n",
    "    return pipeline"
   ]
  },
  {
   "cell_type": "code",
   "execution_count": 18,
   "metadata": {},
   "outputs": [],
   "source": [
    "#Paso 4\n",
    "def create_estimator(pipeline, x_train):\n",
    "    \n",
    "    param_grid = {\n",
    "    \"pca__n_components\": [20, x_train.shape[1] - 2], \n",
    "    'feature_selection__k': [12],            \n",
    "    'classifier__kernel': [\"rbf\"],           \n",
    "    'classifier__gamma': [0.1],              \n",
    "    }   \n",
    "    # Definir validación cruzada con 10 splits\n",
    "    cv = StratifiedKFold(n_splits=10)\n",
    "\n",
    "    # Métrica de precisión balanceada\n",
    "    scorer = make_scorer(balanced_accuracy_score)\n",
    "\n",
    "    # GridSearchCV para optimización de hiperparámetros\n",
    "    grid_search = GridSearchCV(\n",
    "        estimator=pipeline,\n",
    "        param_grid=param_grid,\n",
    "        scoring=scorer,\n",
    "        cv=cv,\n",
    "        n_jobs=-1  \n",
    "    )\n",
    "\n",
    "    return grid_search"
   ]
  },
  {
   "cell_type": "code",
   "execution_count": 19,
   "metadata": {},
   "outputs": [],
   "source": [
    "def _create_output_directory(output_directory):\n",
    "    if os.path.exists(output_directory):\n",
    "        for file in glob.glob(f\"{output_directory}/*\"):\n",
    "            os.remove(file)\n",
    "        os.rmdir(output_directory)\n",
    "    os.makedirs(output_directory)\n",
    "    \n",
    "def _save_model(path, estimator):\n",
    "    _create_output_directory(\"../files/models/\")\n",
    "\n",
    "    with gzip.open(path, \"wb\") as f:\n",
    "        pickle.dump(estimator, f)"
   ]
  },
  {
   "cell_type": "code",
   "execution_count": 20,
   "metadata": {},
   "outputs": [],
   "source": [
    "def calculate_metrics(dataset_type, y_true, y_pred):\n",
    "    return {\n",
    "        \"type\": \"metrics\",\n",
    "        \"dataset\": dataset_type,\n",
    "        \"precision\": precision_score(y_true, y_pred, zero_division=0),\n",
    "        \"balanced_accuracy\": balanced_accuracy_score(y_true, y_pred),\n",
    "        \"recall\": recall_score(y_true, y_pred, zero_division=0),\n",
    "        \"f1_score\": f1_score(y_true, y_pred, zero_division=0),\n",
    "    }\n",
    "    "
   ]
  },
  {
   "cell_type": "code",
   "execution_count": 21,
   "metadata": {},
   "outputs": [],
   "source": [
    "def calculate_confusion(dataset_type, y_true, y_pred):\n",
    "\n",
    "    cm = confusion_matrix(y_true, y_pred)\n",
    "    return {\n",
    "        \"type\": \"cm_matrix\",\n",
    "        \"dataset\": dataset_type,\n",
    "        \"true_0\": {\"predicted_0\": int(cm[0][0]), \"predicted_1\": int(cm[0][1])},\n",
    "        \"true_1\": {\"predicted_0\": int(cm[1][0]), \"predicted_1\": int(cm[1][1])},\n",
    "    }\n"
   ]
  },
  {
   "cell_type": "code",
   "execution_count": 22,
   "metadata": {},
   "outputs": [],
   "source": [
    "def save():\n",
    "    data_train, data_test = load_data()\n",
    "    data_train = clean_data(data_train)\n",
    "    data_test = clean_data(data_test)\n",
    "    x_train, y_train = split_data(data_train)\n",
    "    x_test, y_test = split_data(data_test)\n",
    "    pipeline = make_pipeline(x_train)\n",
    "\n",
    "    estimator = create_estimator(pipeline, x_train)\n",
    "    estimator.fit(x_train, y_train)\n",
    "\n",
    "    _save_model(\n",
    "        os.path.join(\"../files/models/\", \"model.pkl.gz\"),\n",
    "        estimator,\n",
    "    )\n",
    "\n",
    "    y_test_pred = estimator.predict(x_test)\n",
    "    test_precision_metrics = calculate_metrics(\"test\", y_test, y_test_pred)\n",
    "    y_train_pred = estimator.predict(x_train)\n",
    "    train_precision_metrics = calculate_metrics(\"train\", y_train, y_train_pred)\n",
    "\n",
    "    test_confusion_metrics = calculate_confusion(\"test\", y_test, y_test_pred)\n",
    "    train_confusion_metrics = calculate_confusion(\"train\", y_train, y_train_pred)\n",
    "\n",
    "    os.makedirs(\"../files/output/\", exist_ok=True)\n",
    "\n",
    "    with open(\"../files/output/metrics.json\", \"w\", encoding=\"utf-8\") as file:\n",
    "        file.write(json.dumps(train_precision_metrics) + \"\\n\")\n",
    "        file.write(json.dumps(test_precision_metrics) + \"\\n\")\n",
    "        file.write(json.dumps(train_confusion_metrics) + \"\\n\")\n",
    "        file.write(json.dumps(test_confusion_metrics) + \"\\n\")"
   ]
  },
  {
   "cell_type": "code",
   "execution_count": 23,
   "metadata": {},
   "outputs": [],
   "source": [
    "save()"
   ]
  }
 ],
 "metadata": {
  "kernelspec": {
   "display_name": ".venv",
   "language": "python",
   "name": "python3"
  },
  "language_info": {
   "codemirror_mode": {
    "name": "ipython",
    "version": 3
   },
   "file_extension": ".py",
   "mimetype": "text/x-python",
   "name": "python",
   "nbconvert_exporter": "python",
   "pygments_lexer": "ipython3",
   "version": "3.13.1"
  }
 },
 "nbformat": 4,
 "nbformat_minor": 2
}
